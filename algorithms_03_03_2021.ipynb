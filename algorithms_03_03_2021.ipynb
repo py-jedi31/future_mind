{
 "cells": [
  {
   "cell_type": "code",
   "execution_count": 10,
   "id": "attempted-relations",
   "metadata": {},
   "outputs": [
    {
     "name": "stdout",
     "output_type": "stream",
     "text": [
      "{'ы': 1, 'н': 2, 'а': 4, 'д': 5, 'е': 6, '*': 6}\n",
      "Образ найден по индексу 13\n"
     ]
    }
   ],
   "source": [
    "# \n",
    "pattern = 'данные'\n",
    "\n",
    "# 1: ФОРМИРОВАНИЕ ТАБЛИЦЫ СМЕЩЕНИЙ\n",
    "un_ch = set() # unique chars\n",
    "l_p = len(pattern) # the length of pattern\n",
    "d_m = {} # the dict of moves\n",
    "\n",
    "# итерации с последнего символа\n",
    "for i in range(l_p-2, -1, -1):\n",
    "    if pattern[i] not in un_ch: # если символа нет в таблице\n",
    "        d_m[pattern[i]] = l_p-i-1\n",
    "        un_ch.add(pattern[i])\n",
    "#  отдельно формируем отдельлный символ    \n",
    "if pattern[l_p-1] not in un_ch:\n",
    "    d_m[pattern[l_p-1]] = l_p\n",
    "\n",
    "# смещения для прочих символов\n",
    "d_m['*'] = l_p\n",
    "print(d_m)\n",
    "\n",
    "# 2: ПОИСК ОБРАЗА В СТРОКЕ\n",
    "\n",
    "string = \"Большие метеоданные\"\n",
    "string_len = len(string)\n",
    "\n",
    "if string_len >= l_p:\n",
    "    i = l_p - 1 # счётчик проверяемого символа в строке\n",
    "    \n",
    "    while (i < string_len):\n",
    "        k = 0\n",
    "        for j in range(l_p-1, -1, -1):\n",
    "            if string[i-k] != pattern[j]:\n",
    "                if j == l_p-1:\n",
    "                    off = d_m[string_len[i]] if d_m.get(string[i], False) else d_m['*'] # смещение, если не равен последний символ образа\n",
    "                else: \n",
    "                    off = d_m[pattern[j]] # смещение, если не равен последний символ образа\n",
    "                i += off\n",
    "                break\n",
    "            k += 1 # смещение для сравниваемого символа в строке\n",
    "        \n",
    "        if  j == 0:\n",
    "            print(f\"Образ найден по индексу {i-k+1}\")\n",
    "            break\n",
    "    else:\n",
    "        print(\"Образ не найден\")"
   ]
  },
  {
   "cell_type": "code",
   "execution_count": null,
   "id": "incident-mobility",
   "metadata": {},
   "outputs": [],
   "source": []
  }
 ],
 "metadata": {
  "kernelspec": {
   "display_name": "Python 3",
   "language": "python",
   "name": "python3"
  },
  "language_info": {
   "codemirror_mode": {
    "name": "ipython",
    "version": 3
   },
   "file_extension": ".py",
   "mimetype": "text/x-python",
   "name": "python",
   "nbconvert_exporter": "python",
   "pygments_lexer": "ipython3",
   "version": "3.8.3"
  }
 },
 "nbformat": 4,
 "nbformat_minor": 5
}
